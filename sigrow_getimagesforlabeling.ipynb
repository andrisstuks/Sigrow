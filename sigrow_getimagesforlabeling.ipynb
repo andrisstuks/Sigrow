{
 "cells": [
  {
   "cell_type": "code",
   "execution_count": 1,
   "metadata": {},
   "outputs": [],
   "source": [
    "import requests\n",
    "import json\n",
    "import datetime"
   ]
  },
  {
   "cell_type": "code",
   "execution_count": 2,
   "metadata": {},
   "outputs": [],
   "source": [
    "# it is a good idea not to use exposed API key in program. Even better one is to salt it, but for local use this might be fine\n",
    "# Store you API key inseparate txt file and give a path to it so ypu can retrieve it\n",
    "X_API_KEY = open('/path/to/your/api/key.txt','r').readline()"
   ]
  },
  {
   "cell_type": "code",
   "execution_count": 3,
   "metadata": {
    "scrolled": true
   },
   "outputs": [],
   "source": [
    "# To get camera key first look at what cameras you have\n",
    "cameras_response = requests.get(\"http://app.sigrow.com/api/v2/cameras\", \n",
    "                                headers={\"X-API-Key\": X_API_KEY}).json()"
   ]
  },
  {
   "cell_type": "code",
   "execution_count": 4,
   "metadata": {},
   "outputs": [],
   "source": [
    "# Select desired camera\n",
    "selected_camera = cameras_response[0]['id']"
   ]
  },
  {
   "cell_type": "code",
   "execution_count": 5,
   "metadata": {},
   "outputs": [],
   "source": [
    "# Select timeframe from what you would like to receive images for object labeling\n",
    "# Bear in mind the time in the query should be in UTC! (See the API documentation)\n",
    "after = datetime.datetime.strptime(\"13/09/2021 00:00:01\", \"%d/%m/%Y %H:%M:%S\")\n",
    "before = datetime.datetime.strptime(\"10/10/2021 23:59:59\", \"%d/%m/%Y %H:%M:%S\")\n",
    "\n",
    "# And get response with all available shots within given timeframe\n",
    "shots_response = requests.get(\"http://app.sigrow.com/api/v2/camera/{}/shots?after={}&before={}\".format(\n",
    "                selected_camera, after.strftime(\"%Y%m%dT%H%M%SZ\"), before.strftime(\"%Y%m%dT%H%M%SZ\")\n",
    "                ), headers={\n",
    "                    \"X-API-Key\": X_API_KEY\n",
    "                    }).json()"
   ]
  },
  {
   "cell_type": "code",
   "execution_count": 6,
   "metadata": {},
   "outputs": [],
   "source": [
    "# Helper function to retrieve only RGB.jpg image\n",
    "def get_rgb_source(item):\n",
    "    return item[\"type\"] == \"RGB_JPG\""
   ]
  },
  {
   "cell_type": "code",
   "execution_count": 7,
   "metadata": {},
   "outputs": [],
   "source": [
    "# Specify the path to the folder where you want your images to be stored\n",
    "path='/path/to/folder/with/rgb/images/from/stomata_camera/'"
   ]
  },
  {
   "cell_type": "code",
   "execution_count": null,
   "metadata": {},
   "outputs": [],
   "source": [
    "# Jet another way how to determine time from when you want your images to be retrieved\n",
    "# Data in brackets corresponds to year, month, date, hour, minute,second\n",
    "startdate=datetime.datetime(2021, 10, 10, 23, 59, 59, 0)"
   ]
  },
  {
   "cell_type": "code",
   "execution_count": 8,
   "metadata": {},
   "outputs": [],
   "source": [
    "# Now lets iterate day by day - then you get data with 15 minute resolution\n",
    "# in brackets this || numer (30) corresponds how many days back from date chosen you want to retrieve images\n",
    "for day in range(0,30,1):\n",
    "    \n",
    "    # Here you are creating one day timestamp\n",
    "    van=startdate - datetime.timedelta(days=(day+1))\n",
    "    tot=startdate - datetime.timedelta(days=day)\n",
    "    \n",
    "    # Here you get all shots available at given day\n",
    "    shots_response = requests.get(\"http://app.sigrow.com/api/v2/camera/{}/shots?after={}&before={}\".format(\n",
    "                        selected_camera, van.strftime(\"%Y%m%dT%H%M%SZ\"), tot.strftime(\"%Y%m%dT%H%M%SZ\")\n",
    "                        ), headers={\n",
    "                                    \"X-API-Key\": X_API_KEY\n",
    "                                    }).json()\n",
    "    \n",
    "    # Now lets get RGB image from each shot - going one by one with increments by one\n",
    "    for num in range(0,len(shots_response['shots']),1):\n",
    "\n",
    "        # getting shot response to get shot ID\n",
    "        selected_shot=shots_response[\"shots\"][num]\n",
    "\n",
    "        shot_source_response = requests.get(\"http://app.sigrow.com/api/v2/camera/{}/shot/{}/source\".format(\n",
    "            selected_camera, selected_shot[\"id\"]\n",
    "        ), headers={\n",
    "            \"X-API-Key\": X_API_KEY\n",
    "        }).json()\n",
    "        rgb_source = list(filter(get_rgb_source, shot_source_response[\"sources\"]))[0]\n",
    "\n",
    "        # Getting image itself\n",
    "        pic=requests.get(rgb_source[\"url\"]).content\n",
    "\n",
    "        # With some string splittin and rearranging we are getting original file name in Sigrow system\n",
    "        fname=path+rgb_source[\"url\"].split('/')[-1].split('.')[0]+\".\"+rgb_source[\"url\"].split('/')[-1].split('.')[2]\n",
    "\n",
    "        # Saving each image with its distinct filename to selected folder\n",
    "        with open(fname, 'wb') as out_file:\n",
    "            out_file.write(pic)"
   ]
  },
  {
   "cell_type": "markdown",
   "metadata": {},
   "source": [
    "When you have necessary images, you can anotate your images to create dataset for object classification and recognition. "
   ]
  },
  {
   "cell_type": "code",
   "execution_count": null,
   "metadata": {},
   "outputs": [],
   "source": []
  }
 ],
 "metadata": {
  "kernelspec": {
   "display_name": "Python 3 (ipykernel)",
   "language": "python",
   "name": "python3"
  },
  "language_info": {
   "codemirror_mode": {
    "name": "ipython",
    "version": 3
   },
   "file_extension": ".py",
   "mimetype": "text/x-python",
   "name": "python",
   "nbconvert_exporter": "python",
   "pygments_lexer": "ipython3",
   "version": "3.9.6"
  }
 },
 "nbformat": 4,
 "nbformat_minor": 2
}
