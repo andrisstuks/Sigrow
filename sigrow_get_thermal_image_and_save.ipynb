{
 "cells": [
  {
   "cell_type": "markdown",
   "metadata": {},
   "source": [
    "# Stomata Camera APIv2 - getting thermal image example\n",
    "\n",
    "You can see the Swagger documentation here: https://app.sigrow.com/api/v2/\n",
    "\n",
    "We will go through some basic operations regarding the Stomata Camera functionality.\n"
   ]
  },
  {
   "cell_type": "code",
   "execution_count": 1,
   "metadata": {},
   "outputs": [],
   "source": [
    "import requests\n",
    "import json\n",
    "import numpy as np\n",
    "import datetime"
   ]
  },
  {
   "cell_type": "markdown",
   "metadata": {},
   "source": [
    "Make sure that in your requests you use the correct `X-API-Key` header:"
   ]
  },
  {
   "cell_type": "code",
   "execution_count": 2,
   "metadata": {},
   "outputs": [],
   "source": [
    "X_API_KEY = open('/path/to/your/apikey/apik.txt','r').readline()"
   ]
  },
  {
   "cell_type": "code",
   "execution_count": 3,
   "metadata": {
    "scrolled": true
   },
   "outputs": [],
   "source": [
    "# If you have only one camera - this will do the trick to get camera id\n",
    "selected_camera = requests.get(\"http://app.sigrow.com/api/v2/cameras\", \n",
    "                                headers={\"X-API-Key\": X_API_KEY}).json()[0]['id']"
   ]
  },
  {
   "cell_type": "code",
   "execution_count": 4,
   "metadata": {},
   "outputs": [],
   "source": [
    "# You can view your camera id\n",
    "selected_camera"
   ]
  },
  {
   "cell_type": "markdown",
   "metadata": {},
   "source": [
    "## Getting an saving the available shots for the Camera with they original filename\n",
    "\n",
    "Let's say we want to save all images captured between 2021-10-11 19:15 and 2021-10-17 19:00. Bear in mind the time in the query should be in UTC! (See the API documentation)"
   ]
  },
  {
   "cell_type": "code",
   "execution_count": 5,
   "metadata": {},
   "outputs": [],
   "source": [
    "# One of the ways to define starting date from when you want to get your images\n",
    "# Scrip will iterate day by day bact to past to get images\n",
    "# date is defined as year, month, day, hour, minute, second\n",
    "stepis=datetime.datetime(2021, 10, 17, 23, 59, 59, 0)"
   ]
  },
  {
   "cell_type": "code",
   "execution_count": 6,
   "metadata": {},
   "outputs": [],
   "source": [
    "# Define helper functions to filter only desired image\n",
    "def get_high_res(item):\n",
    "            return item[\"height\"] == 600 and item[\"width\"] == 800\n",
    "    \n",
    "def get_temperature_plus_high_res_processed(item):\n",
    "    return get_high_res(item) and item[\"type\"] == \"THERMAL_PLUS_PNG\""
   ]
  },
  {
   "cell_type": "code",
   "execution_count": 7,
   "metadata": {},
   "outputs": [],
   "source": [
    "# Define path, where you want to save your thermal images\n",
    "path='/path/to/your/image/folder/with/thermal/images'"
   ]
  },
  {
   "cell_type": "code",
   "execution_count": 8,
   "metadata": {},
   "outputs": [],
   "source": [
    "# Now define how many days to the past you want to get images from\n",
    "# place count of days as second number\n",
    "for day in range(0,6,1):\n",
    "    \n",
    "    # Day step adjusting is done here\n",
    "    van=stepis - datetime.timedelta(days=(day+1))\n",
    "    tot=stepis - datetime.timedelta(days=day)\n",
    "    \n",
    "    # For convenience you can print our date range from where the images are acquired\n",
    "    print('Images are acquired from: {}  to: {}'.format(noo,too))\n",
    "    \n",
    "    # Get available shots at that day\n",
    "    shots_response = requests.get(\"http://app.sigrow.com/api/v2/camera/{}/shots?after={}&before={}\".format(\n",
    "                        selected_camera, van.strftime(\"%Y%m%dT%H%M%SZ\"), tot.strftime(\"%Y%m%dT%H%M%SZ\")\n",
    "                        ), headers={\n",
    "                                    \"X-API-Key\": X_API_KEY\n",
    "                                    }).json()\n",
    "    \n",
    "    # Iterate over each shot\n",
    "    for num in range(len(shots_response[\"shots\"])):\n",
    "        \n",
    "        # Get shot by its number\n",
    "        selected_shot = shots_response[\"shots\"][num]\n",
    "        shot_processed_response = requests.get(\"http://app.sigrow.com/api/v2/camera/{}/shot/{}/processed\".format(\n",
    "                                                selected_camera, selected_shot[\"id\"]), \n",
    "                                               headers={\n",
    "                                                \"X-API-Key\": X_API_KEY\n",
    "                                                }).json()\n",
    "        \n",
    "        # Filter for image\n",
    "        thermal_plus_high_res = list(filter(get_temperature_plus_high_res_processed, shot_processed_response[\"processed\"]))[0]\n",
    "        \n",
    "        # Create filename from original Sigrow filename\n",
    "        fname=path+thermal_plus_high_res['url'].split('/')[-1]\n",
    "        \n",
    "        # Get image itself\n",
    "        terbigpic=requests.get(thermal_plus_high_res[\"url\"]).content\n",
    "        \n",
    "        # Save image to a file\n",
    "        with open(fname, 'wb') as out_file:\n",
    "            out_file.write(terbigpic)"
   ]
  }
 ],
 "metadata": {
  "kernelspec": {
   "display_name": "Python 3 (ipykernel)",
   "language": "python",
   "name": "python3"
  },
  "language_info": {
   "codemirror_mode": {
    "name": "ipython",
    "version": 3
   },
   "file_extension": ".py",
   "mimetype": "text/x-python",
   "name": "python",
   "nbconvert_exporter": "python",
   "pygments_lexer": "ipython3",
   "version": "3.9.6"
  }
 },
 "nbformat": 4,
 "nbformat_minor": 2
}
